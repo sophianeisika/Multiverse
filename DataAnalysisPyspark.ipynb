{
  "nbformat": 4,
  "nbformat_minor": 0,
  "metadata": {
    "colab": {
      "provenance": [],
      "authorship_tag": "ABX9TyNPrRyDk0SYasFJ9LHAf8k3"
    },
    "kernelspec": {
      "name": "python3",
      "display_name": "Python 3"
    },
    "language_info": {
      "name": "python"
    }
  },
  "cells": [
    {
      "cell_type": "code",
      "source": [
        "from pyspark.sql import SparkSession\n",
        "from pyspark.sql.functions import col, monotonically_increasing_id, concat_ws, lit, concat, desc, count, when, asc, rank, dense_rank, udf\n",
        "from pyspark.sql.window import Window\n",
        "from pyspark.sql.types import StringType\n",
        "\n",
        "\n"
      ],
      "metadata": {
        "id": "yewal5nSrxog"
      },
      "execution_count": 79,
      "outputs": []
    },
    {
      "cell_type": "code",
      "source": [
        "spark = SparkSession.builder.appName(\"DataAnalysis\").getOrCreate()"
      ],
      "metadata": {
        "id": "3kLnl-NBrrj4"
      },
      "execution_count": 35,
      "outputs": []
    },
    {
      "cell_type": "code",
      "source": [
        "#charge le csv dans un dataframe\n",
        "film_df = spark.read.csv(\"film.csv\", header=True, inferSchema=True)"
      ],
      "metadata": {
        "id": "KJHIKoAKu3zH"
      },
      "execution_count": 36,
      "outputs": []
    },
    {
      "cell_type": "code",
      "source": [
        "#supprime la colonne image\n",
        "film_df = film_df.drop(\"*image\")"
      ],
      "metadata": {
        "id": "qqizEaPSvrtG"
      },
      "execution_count": 37,
      "outputs": []
    },
    {
      "cell_type": "code",
      "source": [
        "# Ajouter une colonne d'identifiant unique à chaque ligne\n",
        "film_df = film_df.withColumn(\"row_id\", monotonically_increasing_id())\n",
        "\n",
        "# Spécifier l'indice de la ligne à supprimer (2 dans votre cas)\n",
        "index_to_remove = 2\n",
        "\n",
        "# Supprimer la ligne en fonction de l'indice\n",
        "film_df = film_df.filter(col(\"row_id\") != index_to_remove)\n",
        "\n",
        "# Supprimer la colonne d'identifiant unique ajoutée\n",
        "film_df = film_df.drop(\"row_id\")"
      ],
      "metadata": {
        "id": "bkjIW10evsgE"
      },
      "execution_count": 38,
      "outputs": []
    },
    {
      "cell_type": "code",
      "source": [
        "# créer la colonne crédit\n",
        "film_df = film_df.withColumn(\n",
        "    \"Credits\",\n",
        "    concat(\n",
        "        col(\"title\"), lit(\": a\"),\n",
        "        col(\"Actor\"), lit(\"and\"),\n",
        "        col(\"actress\"), lit(\"film’s, directed by\"),\n",
        "        col(\"Director\")\n",
        "    )\n",
        ")"
      ],
      "metadata": {
        "id": "SM20Azxlvx7n"
      },
      "execution_count": 39,
      "outputs": []
    },
    {
      "cell_type": "code",
      "source": [
        "#affiche le résultat\n",
        "film_df.show(truncate=False)"
      ],
      "metadata": {
        "id": "ayj2im1xv3Qf"
      },
      "execution_count": null,
      "outputs": []
    },
    {
      "cell_type": "code",
      "source": [
        "#Tri les films par année\n",
        "#affiche les résultats\n",
        "#enregistre le résultat dans un csv et si un fichier existe déjà à ce nom, le remplace\n",
        "\n",
        "\n",
        "films_tries_par_annee = film_df.orderBy(col(\"Year\"))\n",
        "films_tries_par_annee.show(truncate=False)\n",
        "films_tries_par_annee.write.csv(\"films_tries_par_annee.csv\", header=True, mode=\"overwrite\")\n"
      ],
      "metadata": {
        "id": "eRLf8Phr6Nme"
      },
      "execution_count": null,
      "outputs": []
    },
    {
      "cell_type": "code",
      "source": [
        "#Tri les films par popularité\n",
        "#affiche les résultats\n",
        "#enregistre le résultat dans un csv et si un fichier existe déjà à ce nom, le remplace\n",
        "\n",
        "\n",
        "films_tries_par_popularite = film_df.orderBy(col(\"Popularity\"))\n",
        "films_tries_par_popularite.write.csv(\"films_tries_par_popularite.csv\", header=True, mode=\"overwrite\")\n",
        "films_tries_par_popularite.show(truncate=False)"
      ],
      "metadata": {
        "id": "15YWpVo67l0N"
      },
      "execution_count": 43,
      "outputs": []
    },
    {
      "cell_type": "code",
      "source": [
        "#Filtre les films qui durent plus de 2h\n",
        "#affiche les résultats\n",
        "#enregistre le résultat dans un csv et si un fichier existe déjà à ce nom, le remplace\n",
        "\n",
        "\n",
        "films_plus_de_2_heures = film_df.filter(col(\"Length\") > 120)\n",
        "films_plus_de_2_heures.write.csv(\"films_plus_de_2_heures.csv\", header=True, mode=\"overwrite\")\n",
        "films_plus_de_2_heures.show(truncate=False)\n"
      ],
      "metadata": {
        "id": "7MY8hVVR72ZN"
      },
      "execution_count": null,
      "outputs": []
    },
    {
      "cell_type": "code",
      "source": [
        "#Filtre les films d'horreur\n",
        "#affiche les résultats\n",
        "#enregistre le résultat dans un csv et si un fichier existe déjà à ce nom, le remplace\n",
        "\n",
        "\n",
        "films_genre1 = film_df.filter(col(\"Subject\") == \"Horror\")\n",
        "films_genre1.write.csv(\"films_genre1.csv\", header=True, mode=\"overwrite\")\n",
        "films_genre1.show(truncate=False)"
      ],
      "metadata": {
        "id": "SR4xMk4P77Az"
      },
      "execution_count": null,
      "outputs": []
    },
    {
      "cell_type": "code",
      "source": [
        "#Tri les films sur le mystère\n",
        "#affiche les résultats\n",
        "#enregistre le résultat dans un csv et si un fichier existe déjà à ce nom, le remplace\n",
        "\n",
        "\n",
        "films_genre2 = film_df.filter(col(\"Subject\") == \"Mystery\")\n",
        "films_genre2.write.csv(\"films_genre2.csv\", header=True, mode=\"overwrite\")\n",
        "films_genre2.show(truncate=False)"
      ],
      "metadata": {
        "id": "-1UqD9fR7_gM"
      },
      "execution_count": null,
      "outputs": []
    },
    {
      "cell_type": "code",
      "source": [
        "#Isole la colonne acteurs, compte le nombre de fois que chaque nom revient et les classe par ordre décroissant\n",
        "#affiche les résultats\n",
        "#enregistre le résultat dans un csv et si un fichier existe déjà à ce nom, le remplace\n",
        "\n",
        "\n",
        "acteur_plus_de_films = film_df.groupBy(\"Actor\").count().orderBy(desc(\"count\"))\n",
        "acteur_plus_de_films.show(truncate=False)\n",
        "acteur_plus_de_films.write.csv(\"acteur_plus_de_films.csv\", header=True, mode=\"overwrite\")"
      ],
      "metadata": {
        "id": "EZcS8iu_9vVM"
      },
      "execution_count": null,
      "outputs": []
    },
    {
      "cell_type": "code",
      "source": [
        "# Compter le nombre de récompenses (Yes) pour chaque directeur\n",
        "# classe par ordre décroissant\n",
        "# Afficher le résultat\n",
        "#enregistre le résultat dans un csv et si un fichier existe déjà à ce nom, le remplace\n",
        "\n",
        "\n",
        "directeur_plus_de_recompenses = film_df.groupBy(\"Director\").agg(count(when(col(\"Awards\") == \"Yes\", True)).alias(\"Nombre de Recompenses\"))\n",
        "directeur_plus_de_recompenses = directeur_plus_de_recompenses.orderBy(desc(\"Nombre de Recompenses\"))\n",
        "directeur_plus_de_recompenses.show(truncate=False)\n",
        "directeur_plus_de_recompenses.write.csv(\"directeur_plus_de_recompenses.csv\", header=True, mode=\"overwrite\")"
      ],
      "metadata": {
        "id": "2U993nF__R7w"
      },
      "execution_count": null,
      "outputs": []
    },
    {
      "cell_type": "code",
      "source": [
        "# Filtrer les films ayant remporté un prix\n",
        "# Trouver le film le plus populaire parmi ceux ayant remporté un prix\n",
        "# Afficher le résultat\n",
        "#enregistre le résultat dans un csv et si un fichier existe déjà à ce nom, le remplace\n",
        "\n",
        "\n",
        "films_avec_prix = film_df.filter(col(\"Awards\") == \"Yes\")\n",
        "film_plus_populaire_avec_prix = films_avec_prix.orderBy(desc(\"Popularity\")).limit(1)\n",
        "film_plus_populaire_avec_prix.show(truncate=False)\n",
        "film_plus_populaire_avec_prix.write.csv(\"film_plus_populaire_avec_prix.csv\", header=True, mode=\"overwrite\")\n"
      ],
      "metadata": {
        "id": "mxZVDXg2BOg3"
      },
      "execution_count": null,
      "outputs": []
    },
    {
      "cell_type": "code",
      "source": [
        "# Filtrer les films n'ayant pas obtenu de récompense\n",
        "# Grouper par genre et compter le nombre de films sans récompense pour chaque genre\n",
        "# Classer par ordre décroissant\n",
        "# Afficher le résultat\n",
        "#enregistre le résultat dans un csv et si un fichier existe déjà à ce nom, le remplace\n",
        "\n",
        "\n",
        "films_sans_recompense = film_df.filter(col(\"Awards\") == \"No\")\n",
        "genres_sans_recompense = films_sans_recompense.groupBy(\"Subject\").count()\n",
        "genres_sans_recompense = genres_sans_recompense.orderBy(desc(\"count\"))\n",
        "genres_sans_recompense.show(truncate=False)\n",
        "genres_sans_recompense.write.csv(\"genres_sans_recompense.csv\", header=True, mode=\"overwrite\")"
      ],
      "metadata": {
        "id": "eh3Kd3pUDkcA"
      },
      "execution_count": null,
      "outputs": []
    },
    {
      "cell_type": "code",
      "source": [
        "#Classement des films par popularité pour chaque genre\n",
        "# Ajouter les colonnes de classement\n",
        "# afficher le résultat\n",
        "window_spec = Window.partitionBy(\"Subject\").orderBy(desc(\"Popularity\"))\n",
        "\n",
        "\n",
        "film_df = film_df.withColumn(\"Rank\", rank().over(window_spec))\n",
        "film_df = film_df.withColumn(\"DenseRank\", dense_rank().over(window_spec))\n",
        "\n",
        "\n",
        "\n",
        "\n",
        "\n",
        "# Compte le nombre de film par réalisateur\n",
        "# Création d'une UDF pour convertir le \"Title\" en majuscules\n",
        "# Application de la UDF à la colonne \"Title\"\n",
        "# Afficher le résultat avec la nouvelle colonne \"TitleUpper\"\n",
        "\n",
        "\n",
        "nombre_films_par_directeur = film_df.groupBy(\"Director\").agg(count(\"Title\").alias(\"NombreFilms\"))\n",
        "nombre_films_par_directeur.show(truncate=False)\n",
        "\n",
        "\n",
        "\n",
        "convertir_majuscules_udf = udf(lambda title: title.upper(), StringType())\n",
        "\n",
        "\n",
        "film_df = film_df.withColumn(\"Title\", convertir_majuscules_udf(\"Title\"))\n",
        "\n",
        "\n",
        "\n",
        "film_df.show(truncate=False)\n",
        "\n"
      ],
      "metadata": {
        "id": "ebcoKgbLKDUW"
      },
      "execution_count": null,
      "outputs": []
    },
    {
      "cell_type": "code",
      "source": [],
      "metadata": {
        "id": "Wd7H8RAwNee1"
      },
      "execution_count": null,
      "outputs": []
    }
  ]
}